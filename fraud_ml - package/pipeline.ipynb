{
 "cells": [
  {
   "cell_type": "code",
   "execution_count": 13,
   "id": "a60c97bf-bb66-48cc-a32f-554a7da9f245",
   "metadata": {},
   "outputs": [],
   "source": [
    "import pandas as pd\n",
    "import numpy as np\n",
    "import farmhash\n",
    "import re\n",
    "import os\n",
    "import joblib\n",
    "from preprocessing import DateDecomp,Aggregator,AggAmtperTxn,FarmHash,FraudFreq,ValueLength,WeekCategory,PurchaseType,SelectFeatures,ReplaceNaN\n",
    "\n",
    "from feature_engine.encoding import (\n",
    "    OneHotEncoder\n",
    ")\n",
    "from feature_engine.transformation import (\n",
    "    LogTransformer\n",
    ")\n",
    "from sklearn.preprocessing import StandardScaler,MinMaxScaler\n",
    "from sklearn.tree import DecisionTreeClassifier\n",
    "from sklearn.metrics import recall_score\n",
    "from sklearn.pipeline import Pipeline"
   ]
  },
  {
   "cell_type": "code",
   "execution_count": 10,
   "id": "795ef56b-3f63-4cb1-bb76-40e52e63f852",
   "metadata": {},
   "outputs": [],
   "source": [
    "###### Load data ##########\n",
    "\n",
    "train = pd.read_csv(\"fraudTrain.csv\")\n",
    "train_target = train.is_fraud\n",
    "train.drop(columns = [\"Unnamed: 0\",\"is_fraud\"], inplace = True)\n",
    "\n",
    "test = pd.read_csv(\"fraudTest.csv\")\n",
    "test_target = test.is_fraud\n",
    "test.drop(columns = [\"Unnamed: 0\",\"is_fraud\"], inplace = True)\n"
   ]
  },
  {
   "cell_type": "code",
   "execution_count": 11,
   "id": "e9b2ed3b-b96e-43c6-9a6b-7d2dcad89061",
   "metadata": {},
   "outputs": [],
   "source": [
    "######## Define Variables####\n",
    "\n",
    "DATE_TRANSFORMATION = [\"trans_date_trans_time\",\"dob\"]\n",
    "AVG_DAY_AMT_AGGREGATION =  [\"cc_num\",\"gender\"]\n",
    "STD_YEAR_AMT_AGGREGATION = [\"category\"]\n",
    "AMT_PER_TXN_DAY_AGGREGATION = [\"cc_num\"]\n",
    "FRAUD_FREQ_MAPPER = [\"trans_date_trans_time_hour\"]\n",
    "FARMHASH_MAPPER = [\"category\"]\n",
    "LOG_TRANSFORM = ['cc_num_mean_caldate_sum_amt', 'gender_mean_caldate_sum_amt', 'category_std_year_amt_per_txn', 'cc_num_mean_caldate_amt_per_txn']\n",
    "COLS_SELECTION = ['category', 'amt', 'trans_date_trans_time_hour', 'dob_year', 'cc_num_mean_caldate_sum_amt', 'gender_mean_caldate_sum_amt', 'category_std_year_amt_per_txn', 'cc_num_mean_caldate_amt_per_txn', 'trans_date_trans_time_hour_fraud_freq']\n",
    "SEED = 4"
   ]
  },
  {
   "cell_type": "code",
   "execution_count": 14,
   "id": "32154c0d-83b8-4f81-bfc9-c22e7b82ad2a",
   "metadata": {},
   "outputs": [
    {
     "name": "stderr",
     "output_type": "stream",
     "text": [
      "C:\\Users\\vince\\Documents\\pyds\\ML_design_data_patterns\\fraud_ml\\preprocessing.py:30: FutureWarning: weekofyear and week have been deprecated, please use DatetimeIndex.isocalendar().week instead, which returns a Series. To exactly reproduce the behavior of week and weekofyear and return an Index, you may call pd.Int64Index(idx.isocalendar().week)\n",
      "  \n",
      "C:\\Users\\vince\\Documents\\pyds\\ML_design_data_patterns\\fraud_ml\\preprocessing.py:30: FutureWarning: weekofyear and week have been deprecated, please use DatetimeIndex.isocalendar().week instead, which returns a Series. To exactly reproduce the behavior of week and weekofyear and return an Index, you may call pd.Int64Index(idx.isocalendar().week)\n",
      "  \n",
      "C:\\Users\\vince\\Documents\\pyds\\ML_design_data_patterns\\fraud_ml\\preprocessing.py:30: FutureWarning: weekofyear and week have been deprecated, please use DatetimeIndex.isocalendar().week instead, which returns a Series. To exactly reproduce the behavior of week and weekofyear and return an Index, you may call pd.Int64Index(idx.isocalendar().week)\n",
      "  \n",
      "C:\\Users\\vince\\Documents\\pyds\\ML_design_data_patterns\\fraud_ml\\preprocessing.py:30: FutureWarning: weekofyear and week have been deprecated, please use DatetimeIndex.isocalendar().week instead, which returns a Series. To exactly reproduce the behavior of week and weekofyear and return an Index, you may call pd.Int64Index(idx.isocalendar().week)\n",
      "  \n"
     ]
    },
    {
     "name": "stdout",
     "output_type": "stream",
     "text": [
      "1.0\n"
     ]
    }
   ],
   "source": [
    "######## Pipelinet####\n",
    "\n",
    "pipe = Pipeline([\n",
    "    \n",
    "    (\"txn_date_decom\",DateDecomp(col = DATE_TRANSFORMATION))\n",
    "    \n",
    "      \n",
    "    ,(\"avg_txn_amount\",Aggregator(partition_col=AVG_DAY_AMT_AGGREGATION,date_col=['trans_date_trans_time_caldate'],agg_col=\"amt\",agg_value=\"sum\"))\n",
    "    \n",
    "    ,(\"std_amt_per_txn\",AggAmtperTxn(partition_col=STD_YEAR_AMT_AGGREGATION,date_col=['trans_date_trans_time_year'],agg_type='std'))\n",
    "    \n",
    "    \n",
    "    ,(\"amt_per_txn\",AggAmtperTxn(partition_col=AMT_PER_TXN_DAY_AGGREGATION))\n",
    "    \n",
    "    \n",
    "    ,(\"fraud_freq\",FraudFreq(col = FRAUD_FREQ_MAPPER))\n",
    "    \n",
    "    \n",
    "    ,(\"hash_value\",FarmHash(col = FARMHASH_MAPPER))\n",
    "    \n",
    "    \n",
    "   ,(\"log_transform\",LogTransformer(variables=LOG_TRANSFORM  ))\n",
    " \n",
    "   ,('normalizer', SklearnTransformerWrapper(transformer=MinMaxScaler()))\n",
    "   ,(\"replace_nan\",ReplaceNaN())\n",
    "   ,(\"selector\",SelectFeatures(COLS_SELECTION))\n",
    "   ,(\"estimator\",DecisionTreeClassifier(random_state=SEED,class_weight={0:0,1:2}))])\n",
    "\n",
    "\n",
    "pipe.fit(train,train_target)\n",
    "\n",
    "\n",
    "predictions = pipe.predict(test)\n",
    "test_score = recall_score(test_target,predictions)\n",
    "\n",
    "print(test_score)"
   ]
  }
 ],
 "metadata": {
  "kernelspec": {
   "display_name": "Python 3 (ipykernel)",
   "language": "python",
   "name": "python3"
  },
  "language_info": {
   "codemirror_mode": {
    "name": "ipython",
    "version": 3
   },
   "file_extension": ".py",
   "mimetype": "text/x-python",
   "name": "python",
   "nbconvert_exporter": "python",
   "pygments_lexer": "ipython3",
   "version": "3.10.4"
  }
 },
 "nbformat": 4,
 "nbformat_minor": 5
}
